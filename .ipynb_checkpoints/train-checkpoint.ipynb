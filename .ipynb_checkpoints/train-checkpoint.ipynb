{
 "cells": [
  {
   "cell_type": "code",
   "execution_count": 6,
   "metadata": {},
   "outputs": [],
   "source": [
    "import numpy as np\n",
    "import matplotlib.pyplot as plt\n",
    "\n",
    "from keras.layers import Input, Activation, Conv2D, Flatten, Dense, MaxPooling2D, Dropout, Add, LeakyReLU, UpSampling2D\n",
    "from keras.models import Model, load_model\n",
    "from keras.callbacks import ReduceLROnPlateau\n",
    "import tensorflow as tf"
   ]
  },
  {
   "cell_type": "code",
   "execution_count": 5,
   "metadata": {},
   "outputs": [
    {
     "name": "stdout",
     "output_type": "stream",
     "text": [
      "(240, 256, 256, 1) (240, 256, 256, 1)\n",
      "(27, 256, 256, 1) (27, 256, 256, 1)\n"
     ]
    }
   ],
   "source": [
    "x_train = np.load('dataset/x_train.npy')\n",
    "y_train = np.load('dataset/y_train.npy')\n",
    "x_val = np.load('dataset/x_val.npy')\n",
    "y_val = np.load('dataset/y_val.npy')\n",
    "\n",
    "print(x_train.shape, y_train.shape)\n",
    "print(x_val.shape, y_val.shape)"
   ]
  },
  {
   "cell_type": "code",
   "execution_count": 12,
   "metadata": {},
   "outputs": [],
   "source": [
    "inputs = Input(shape=(256, 256, 1))\n",
    "\n",
    "model = tf.keras.Sequential([\n",
    "    tf.keras.layers.Conv2D(input_shape=(256,256,1), kernel_size=3, filters=32, activation='relu', padding='same'),\n",
    "    tf.keras.layers.MaxPooling2D(strides=(2,2), pool_size=2, padding='same'),\n",
    "    tf.keras.layers.Conv2D(kernel_size=3, filters=64, activation='relu', padding='same'),\n",
    "    tf.keras.layers.MaxPooling2D(strides=(2,2), pool_size=2, padding='same'),\n",
    "    tf.keras.layers.Conv2D(kernel_size=3, filters=128, activation='relu', padding='same'),\n",
    "    tf.keras.layers.MaxPooling2D(strides=(2,2), pool_size=2, padding='same'),\n",
    "    tf.keras.layers.Dense(units=128, activation='relu'),\n",
    "    tf.keras.layers.UpSampling2D(size=2),\n",
    "    tf.keras.layers.Conv2D(kernel_size=3, filters=128, activation='sigmoid', padding='same'),\n",
    "    tf.keras.layers.UpSampling2D(size=2),\n",
    "    tf.keras.layers.Conv2D(kernel_size=3, filters=64, activation='sigmoid', padding='same'),\n",
    "    tf.keras.layers.UpSampling2D(size=2),\n",
    "    tf.keras.layers.Conv2D(kernel_size=3, filters=1, activation='sigmoid', padding='same'),\n",
    "])"
   ]
  },
  {
   "cell_type": "code",
   "execution_count": 14,
   "metadata": {},
   "outputs": [
    {
     "name": "stdout",
     "output_type": "stream",
     "text": [
      "Model: \"sequential_1\"\n",
      "_________________________________________________________________\n",
      "Layer (type)                 Output Shape              Param #   \n",
      "=================================================================\n",
      "conv2d_1 (Conv2D)            (None, 256, 256, 32)      320       \n",
      "_________________________________________________________________\n",
      "max_pooling2d_1 (MaxPooling2 (None, 128, 128, 32)      0         \n",
      "_________________________________________________________________\n",
      "conv2d_2 (Conv2D)            (None, 128, 128, 64)      18496     \n",
      "_________________________________________________________________\n",
      "max_pooling2d_2 (MaxPooling2 (None, 64, 64, 64)        0         \n",
      "_________________________________________________________________\n",
      "conv2d_3 (Conv2D)            (None, 64, 64, 128)       73856     \n",
      "_________________________________________________________________\n",
      "max_pooling2d_3 (MaxPooling2 (None, 32, 32, 128)       0         \n",
      "_________________________________________________________________\n",
      "dense (Dense)                (None, 32, 32, 128)       16512     \n",
      "_________________________________________________________________\n",
      "up_sampling2d (UpSampling2D) (None, 64, 64, 128)       0         \n",
      "_________________________________________________________________\n",
      "conv2d_4 (Conv2D)            (None, 64, 64, 128)       147584    \n",
      "_________________________________________________________________\n",
      "up_sampling2d_1 (UpSampling2 (None, 128, 128, 128)     0         \n",
      "_________________________________________________________________\n",
      "conv2d_5 (Conv2D)            (None, 128, 128, 64)      73792     \n",
      "_________________________________________________________________\n",
      "up_sampling2d_2 (UpSampling2 (None, 256, 256, 64)      0         \n",
      "_________________________________________________________________\n",
      "conv2d_6 (Conv2D)            (None, 256, 256, 1)       577       \n",
      "=================================================================\n",
      "Total params: 331,137\n",
      "Trainable params: 331,137\n",
      "Non-trainable params: 0\n",
      "_________________________________________________________________\n"
     ]
    }
   ],
   "source": [
    "model.compile(optimizer=tf.keras.optimizers.Adam(),\n",
    "             loss= 'binary_crossentropy',\n",
    "             metrics=['acc', 'mse'])\n",
    "model.summary()"
   ]
  },
  {
   "cell_type": "code",
   "execution_count": null,
   "metadata": {},
   "outputs": [],
   "source": [
    "history = model.fit(x_train, y_train, \n",
    "                    validation_data=(x_val, y_val),epochs=100, \n",
    "                    callbacks=[tf.keras.callbacks.EarlyStopping(patience=5, monitor='val_loss')])"
   ]
  },
  {
   "cell_type": "code",
   "execution_count": null,
   "metadata": {},
   "outputs": [],
   "source": []
  }
 ],
 "metadata": {
  "kernelspec": {
   "display_name": "Python 3",
   "language": "python",
   "name": "python3"
  },
  "language_info": {
   "codemirror_mode": {
    "name": "ipython",
    "version": 3
   },
   "file_extension": ".py",
   "mimetype": "text/x-python",
   "name": "python",
   "nbconvert_exporter": "python",
   "pygments_lexer": "ipython3",
   "version": "3.8.1"
  }
 },
 "nbformat": 4,
 "nbformat_minor": 4
}
